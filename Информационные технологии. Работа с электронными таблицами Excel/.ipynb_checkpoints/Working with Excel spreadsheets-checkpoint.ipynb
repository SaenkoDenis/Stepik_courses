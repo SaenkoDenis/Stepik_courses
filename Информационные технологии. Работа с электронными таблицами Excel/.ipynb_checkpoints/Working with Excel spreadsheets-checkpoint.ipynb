{
 "cells": [
  {
   "cell_type": "markdown",
   "id": "f91f2f4d-f5b7-4485-9ab5-f4f900723b11",
   "metadata": {},
   "source": [
    "# 1. Модуль 1. Начальные сведения о работе с электронными таблицами"
   ]
  },
  {
   "cell_type": "markdown",
   "id": "37fe9035-a3ea-438e-9c6b-2949efc0c6bf",
   "metadata": {},
   "source": [
    "В MS Excel указание на отдельную ячейку таблицы, составленное из обозначения <br>\n",
    "столбца и номера строки называют…\n",
    "\n",
    "Выберите один вариант из списка\n",
    "\n",
    "- результатом вычисления\n",
    "- формулой введенной в ячейку\n",
    "- диапазоном\n",
    "- **адресом ячейки**"
   ]
  }
 ],
 "metadata": {
  "kernelspec": {
   "display_name": "Python 3 (ipykernel)",
   "language": "python",
   "name": "python3"
  },
  "language_info": {
   "codemirror_mode": {
    "name": "ipython",
    "version": 3
   },
   "file_extension": ".py",
   "mimetype": "text/x-python",
   "name": "python",
   "nbconvert_exporter": "python",
   "pygments_lexer": "ipython3",
   "version": "3.8.15"
  }
 },
 "nbformat": 4,
 "nbformat_minor": 5
}
